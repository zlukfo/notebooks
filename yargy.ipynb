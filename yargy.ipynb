{
  "nbformat": 4,
  "nbformat_minor": 0,
  "metadata": {
    "colab": {
      "name": "yargy.ipynb",
      "provenance": [],
      "toc_visible": true,
      "mount_file_id": "1ypqSHEwkSBXtmwt1n2n2hyLGjnwXh7n8",
      "authorship_tag": "ABX9TyO39uRDl9m60VnAO5O0jEvM",
      "include_colab_link": true
    },
    "kernelspec": {
      "name": "python3",
      "display_name": "Python 3"
    }
  },
  "cells": [
    {
      "cell_type": "markdown",
      "metadata": {
        "id": "view-in-github",
        "colab_type": "text"
      },
      "source": [
        "<a href=\"https://colab.research.google.com/github/zlukfo/notebooks/blob/master/yargy.ipynb\" target=\"_parent\"><img src=\"https://colab.research.google.com/assets/colab-badge.svg\" alt=\"Open In Colab\"/></a>"
      ]
    },
    {
      "cell_type": "markdown",
      "metadata": {
        "id": "T7P__-v2V1Gc",
        "colab_type": "text"
      },
      "source": [
        "### Yargy - парсер для извлечения данных из текста\n"
      ]
    },
    {
      "cell_type": "markdown",
      "metadata": {
        "id": "2JANbBHKWXPQ",
        "colab_type": "text"
      },
      "source": [
        "## 1. Установка"
      ]
    },
    {
      "cell_type": "code",
      "metadata": {
        "id": "ITOhIhkfVQuo",
        "colab_type": "code",
        "colab": {
          "base_uri": "https://localhost:8080/",
          "height": 272
        },
        "outputId": "3d2a6e47-d868-48cb-9f12-bbaf866f5348"
      },
      "source": [
        "pip install yargy"
      ],
      "execution_count": 4,
      "outputs": [
        {
          "output_type": "stream",
          "text": [
            "Collecting yargy\n",
            "\u001b[?25l  Downloading https://files.pythonhosted.org/packages/8e/07/94306844e3a5cb520660612ad98bce56c168edb596679bd541e68dfde089/yargy-0.14.0-py3-none-any.whl (41kB)\n",
            "\u001b[K     |████████████████████████████████| 51kB 3.1MB/s \n",
            "\u001b[?25hCollecting pymorphy2\n",
            "\u001b[?25l  Downloading https://files.pythonhosted.org/packages/a3/33/fff9675c68b5f6c63ec8c6e6ff57827dda28a1fa5b2c2d727dffff92dd47/pymorphy2-0.8-py2.py3-none-any.whl (46kB)\n",
            "\u001b[K     |████████████████████████████████| 51kB 6.0MB/s \n",
            "\u001b[?25hRequirement already satisfied: docopt>=0.6 in /usr/local/lib/python3.6/dist-packages (from pymorphy2->yargy) (0.6.2)\n",
            "Collecting dawg-python>=0.7\n",
            "  Downloading https://files.pythonhosted.org/packages/6a/84/ff1ce2071d4c650ec85745766c0047ccc3b5036f1d03559fd46bb38b5eeb/DAWG_Python-0.7.2-py2.py3-none-any.whl\n",
            "Collecting pymorphy2-dicts<3.0,>=2.4\n",
            "\u001b[?25l  Downloading https://files.pythonhosted.org/packages/02/51/2465fd4f72328ab50877b54777764d928da8cb15b74e2680fc1bd8cb3173/pymorphy2_dicts-2.4.393442.3710985-py2.py3-none-any.whl (7.1MB)\n",
            "\u001b[K     |████████████████████████████████| 7.1MB 6.6MB/s \n",
            "\u001b[?25hInstalling collected packages: dawg-python, pymorphy2-dicts, pymorphy2, yargy\n",
            "Successfully installed dawg-python-0.7.2 pymorphy2-0.8 pymorphy2-dicts-2.4.393442.3710985 yargy-0.14.0\n"
          ],
          "name": "stdout"
        }
      ]
    },
    {
      "cell_type": "markdown",
      "metadata": {
        "id": "zn4HPvfHdlv2",
        "colab_type": "text"
      },
      "source": [
        "## 2. Токенизатор"
      ]
    },
    {
      "cell_type": "markdown",
      "metadata": {
        "id": "DlzJkyoMeGuE",
        "colab_type": "text"
      },
      "source": [
        "**2.1. Посмотреть текущие правила**\n",
        "\n",
        "---\n",
        "\n"
      ]
    },
    {
      "cell_type": "code",
      "metadata": {
        "id": "j_qbZc5xVtJK",
        "colab_type": "code",
        "outputId": "a1bdbf1c-0e3d-46b5-c043-df2bb1c25b1f",
        "colab": {
          "base_uri": "https://localhost:8080/",
          "height": 54
        }
      },
      "source": [
        "from yargy.tokenizer import RULES\n",
        "print (RULES)"
      ],
      "execution_count": 0,
      "outputs": [
        {
          "output_type": "stream",
          "text": [
            "[TokenRule(type='RU', pattern='[а-яё]+'), TokenRule(type='LATIN', pattern='[a-z]+'), TokenRule(type='INT', pattern='\\\\d+'), TokenRule(type='PUNCT', pattern='[-\\\\\\\\/!#$%&()\\\\[\\\\]\\\\*\\\\+,\\\\.:;<=>?@^_`{|}~№…\"\\\\\\'«»„“ʼʻ”]'), TokenRule(type='EOL', pattern='[\\\\n\\\\r]+'), TokenRule(type='OTHER', pattern='\\\\S')]\n"
          ],
          "name": "stdout"
        }
      ]
    },
    {
      "cell_type": "markdown",
      "metadata": {
        "id": "TvTG7_Ehf7lJ",
        "colab_type": "text"
      },
      "source": [
        "**2.2. Создать токенизатор, добавить и удалить правило**\n",
        "\n",
        "---\n",
        "По умолчанию, для экземпляра токенизатора список правил будет RULES\n"
      ]
    },
    {
      "cell_type": "code",
      "metadata": {
        "id": "cycPkS3Pg-8b",
        "colab_type": "code",
        "colab": {}
      },
      "source": [
        "from yargy.tokenizer import Tokenizer, TokenRule\n",
        "tokenizer = Tokenizer()\n",
        "tokenizer.add_rules(TokenRule('MYRULE', r'(###)|(\\$\\$)'))\n",
        "tokenizer = Tokenizer().remove_types('OTHER')"
      ],
      "execution_count": 0,
      "outputs": []
    },
    {
      "cell_type": "markdown",
      "metadata": {
        "id": "Txk9hVhwj_n2",
        "colab_type": "text"
      },
      "source": [
        "**2.3. Разобрать исходный текст на токены**\n",
        "\n",
        "---\n",
        "В коде ниже коллекция документов состоит из двух текстов. Для примера добавляется новый тип токена - ФИО персоны. \n",
        "При разбивке текстов выделяются только токены, распознанные как слова русского языка и ФИО персоны. В качестве практического примера строится инвертированнный индекс распознанных токенов\n"
      ]
    },
    {
      "cell_type": "code",
      "metadata": {
        "id": "DZHsge2CkIXT",
        "colab_type": "code",
        "outputId": "368c584b-ac98-4d0b-ea9c-9a58106448d6",
        "colab": {
          "base_uri": "https://localhost:8080/",
          "height": 54
        }
      },
      "source": [
        "from yargy.tokenizer import Tokenizer, TokenRule\n",
        "tokenizer = Tokenizer()\n",
        "# добавляем правило для разбора ФИО как одного неделимого токена\n",
        "tokenizer.add_rules(TokenRule('FIO', r'[А-Яа-я]\\.([А-Яа-я]\\.)?( ?)[А-Яа-я]+'))\n",
        "text1 = u'''\n",
        "  В тот год осенняя погода\n",
        "  стояла долго на дворе.\n",
        "  Зимы ждала, ждала природа\n",
        "  Снег выпал только в январе.\n",
        "                  А.С.Пушкин\n",
        "'''\n",
        "text2= u'''\n",
        "  Январь, за окнами зима\n",
        "  Снег серебриться белый-белый\n",
        "  Мороз трещит, рисует мелом\n",
        "  На речках строит терема\n",
        "        Е. Бер\n",
        "'''\n",
        "doc_collection=(text1, text2)\n",
        "inv_index={}\n",
        "\n",
        "for text in doc_collection:\n",
        "  for token in tokenizer(text):\n",
        "    if token.type in [\"RU\", \"FIO\"]:\n",
        "      val=inv_index.setdefault(token.value,[])\n",
        "      ind=doc_collection.index(text)\n",
        "      if not ind in val:\n",
        "        inv_index[token.value].append(ind)\n",
        "print(inv_index)"
      ],
      "execution_count": 21,
      "outputs": [
        {
          "output_type": "stream",
          "text": [
            "{'В': [0], 'тот': [0], 'год': [0], 'осенняя': [0], 'погода': [0], 'стояла': [0], 'долго': [0], 'на': [0], 'дворе': [0], 'Зимы': [0], 'ждала': [0], 'природа': [0], 'Снег': [0, 1], 'выпал': [0], 'только': [0], 'в': [0], 'январе': [0], 'А.С.Пушкин': [0], 'Январь': [1], 'за': [1], 'окнами': [1], 'зима': [1], 'серебриться': [1], 'белый': [1], 'Мороз': [1], 'трещит': [1], 'рисует': [1], 'мелом': [1], 'На': [1], 'речках': [1], 'строит': [1], 'терема': [1], 'Е. Бер': [1]}\n"
          ],
          "name": "stdout"
        }
      ]
    }
  ]
}