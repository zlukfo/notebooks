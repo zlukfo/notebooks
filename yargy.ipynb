{
  "nbformat": 4,
  "nbformat_minor": 0,
  "metadata": {
    "colab": {
      "name": "yargy.ipynb",
      "provenance": [],
      "toc_visible": true,
      "mount_file_id": "1ypqSHEwkSBXtmwt1n2n2hyLGjnwXh7n8",
      "authorship_tag": "ABX9TyOoycTrQCPuGoGoe60k2alP",
      "include_colab_link": true
    },
    "kernelspec": {
      "name": "python3",
      "display_name": "Python 3"
    }
  },
  "cells": [
    {
      "cell_type": "markdown",
      "metadata": {
        "id": "view-in-github",
        "colab_type": "text"
      },
      "source": [
        "<a href=\"https://colab.research.google.com/github/zlukfo/notebooks/blob/master/yargy.ipynb\" target=\"_parent\"><img src=\"https://colab.research.google.com/assets/colab-badge.svg\" alt=\"Open In Colab\"/></a>"
      ]
    },
    {
      "cell_type": "markdown",
      "metadata": {
        "id": "T7P__-v2V1Gc",
        "colab_type": "text"
      },
      "source": [
        "### Yargy - парсер для извлечения данных из текста\n"
      ]
    },
    {
      "cell_type": "markdown",
      "metadata": {
        "id": "2JANbBHKWXPQ",
        "colab_type": "text"
      },
      "source": [
        "## 1. Установка"
      ]
    },
    {
      "cell_type": "code",
      "metadata": {
        "id": "ITOhIhkfVQuo",
        "colab_type": "code",
        "colab": {}
      },
      "source": [
        "pip install yargy"
      ],
      "execution_count": 0,
      "outputs": []
    },
    {
      "cell_type": "markdown",
      "metadata": {
        "id": "zn4HPvfHdlv2",
        "colab_type": "text"
      },
      "source": [
        "## 2. Токенизатор"
      ]
    },
    {
      "cell_type": "markdown",
      "metadata": {
        "id": "DlzJkyoMeGuE",
        "colab_type": "text"
      },
      "source": [
        "**2.1. Посмотреть текущие правила**\n",
        "\n",
        "---\n",
        "\n"
      ]
    },
    {
      "cell_type": "code",
      "metadata": {
        "id": "j_qbZc5xVtJK",
        "colab_type": "code",
        "outputId": "a1bdbf1c-0e3d-46b5-c043-df2bb1c25b1f",
        "colab": {
          "base_uri": "https://localhost:8080/",
          "height": 54
        }
      },
      "source": [
        "from yargy.tokenizer import RULES\n",
        "print (RULES)"
      ],
      "execution_count": 0,
      "outputs": [
        {
          "output_type": "stream",
          "text": [
            "[TokenRule(type='RU', pattern='[а-яё]+'), TokenRule(type='LATIN', pattern='[a-z]+'), TokenRule(type='INT', pattern='\\\\d+'), TokenRule(type='PUNCT', pattern='[-\\\\\\\\/!#$%&()\\\\[\\\\]\\\\*\\\\+,\\\\.:;<=>?@^_`{|}~№…\"\\\\\\'«»„“ʼʻ”]'), TokenRule(type='EOL', pattern='[\\\\n\\\\r]+'), TokenRule(type='OTHER', pattern='\\\\S')]\n"
          ],
          "name": "stdout"
        }
      ]
    },
    {
      "cell_type": "markdown",
      "metadata": {
        "id": "TvTG7_Ehf7lJ",
        "colab_type": "text"
      },
      "source": [
        "**2.2. Создать токенизатор, добавить и удалить правило**\n",
        "\n",
        "---\n",
        "По умолчанию, для экземпляра токенизатора список правил будет RULES\n"
      ]
    },
    {
      "cell_type": "code",
      "metadata": {
        "id": "cycPkS3Pg-8b",
        "colab_type": "code",
        "colab": {}
      },
      "source": [
        "from yargy.tokenizer import Tokenizer, TokenRule, MorphTokenizer \n",
        "tokenizer = Tokenizer()\n",
        "tokenizer.add_rules(TokenRule('MYRULE', r'(###)|(\\$\\$)'))\n",
        "tokenizer = Tokenizer().remove_types('OTHER')"
      ],
      "execution_count": 0,
      "outputs": []
    },
    {
      "cell_type": "markdown",
      "metadata": {
        "id": "Txk9hVhwj_n2",
        "colab_type": "text"
      },
      "source": [
        "**2.3. Разобрать исходный текст на токены**\n",
        "\n",
        "---\n",
        "\n"
      ]
    },
    {
      "cell_type": "code",
      "metadata": {
        "id": "DZHsge2CkIXT",
        "colab_type": "code",
        "outputId": "fdcdb45e-4e18-443f-86c7-a39b787520a1",
        "colab": {
          "base_uri": "https://localhost:8080/",
          "height": 490
        }
      },
      "source": [
        "mtokenizer = MorphTokenizer()\n",
        "mtokenizer.add_rules(TokenRule('FIO', r'[А-Яа-я]\\.[А-Яа-я]\\.[А-Яа-я]+'))\n",
        "text = u'''\n",
        "В тот год осенняя погода\n",
        "стояла долго на дворе\n",
        "Зимы ждала, ждала природа\n",
        "Снег выпал только в январе.\n",
        "              А.С.Пушкин\n",
        "'''\n",
        "for token in mtokenizer(text):\n",
        "    print (token)"
      ],
      "execution_count": 0,
      "outputs": [
        {
          "output_type": "stream",
          "text": [
            "Token(value='\\n', span=[0, 1), type='EOL')\n",
            "MorphToken(value='В', span=[1, 2), type='RU', forms=[Form('в', Grams(PREP)), Form('век', Grams(Abbr,Fixd,NOUN,inan,masc,nomn,sing)), Form('век', Grams(Abbr,Fixd,NOUN,gent,inan,masc,sing)), Form('век', Grams(Abbr,Fixd,NOUN,datv,inan,masc,sing)), Form('век', Grams(Abbr,Fixd,NOUN,accs,inan,masc,sing)), Form('век', Grams(Abbr,Fixd,NOUN,ablt,inan,masc,sing)), Form('век', Grams(Abbr,Fixd,NOUN,inan,loct,masc,sing)), Form('век', Grams(Abbr,Fixd,NOUN,inan,masc,nomn,plur)), Form('век', Grams(Abbr,Fixd,NOUN,gent,inan,masc,plur)), Form('век', Grams(Abbr,Fixd,NOUN,datv,inan,masc,plur)), Form('век', Grams(Abbr,Fixd,NOUN,accs,inan,masc,plur)), Form('век', Grams(Abbr,Fixd,NOUN,ablt,inan,masc,plur)), Form('век', Grams(Abbr,Fixd,NOUN,inan,loct,masc,plur)), Form('в', Grams(Abbr,Fixd,Init,NOUN,Name,Sgtm,anim,masc,nomn,sing)), Form('в', Grams(Abbr,Fixd,Init,NOUN,Name,Sgtm,anim,gent,masc,sing)), Form('в', Grams(Abbr,Fixd,Init,NOUN,Name,Sgtm,anim,datv,masc,sing)), Form('в', Grams(Abbr,Fixd,Init,NOUN,Name,Sgtm,accs,anim,masc,sing)), Form('в', Grams(Abbr,Fixd,Init,NOUN,Name,Sgtm,ablt,anim,masc,sing)), Form('в', Grams(Abbr,Fixd,Init,NOUN,Name,Sgtm,anim,loct,masc,sing)), Form('в', Grams(Abbr,Fixd,Init,NOUN,Name,Sgtm,anim,femn,nomn,sing)), Form('в', Grams(Abbr,Fixd,Init,NOUN,Name,Sgtm,anim,femn,gent,sing)), Form('в', Grams(Abbr,Fixd,Init,NOUN,Name,Sgtm,anim,datv,femn,sing)), Form('в', Grams(Abbr,Fixd,Init,NOUN,Name,Sgtm,accs,anim,femn,sing)), Form('в', Grams(Abbr,Fixd,Init,NOUN,Name,Sgtm,ablt,anim,femn,sing)), Form('в', Grams(Abbr,Fixd,Init,NOUN,Name,Sgtm,anim,femn,loct,sing)), Form('в', Grams(Abbr,Fixd,Init,NOUN,Patr,Sgtm,anim,masc,nomn,sing)), Form('в', Grams(Abbr,Fixd,Init,NOUN,Patr,Sgtm,anim,gent,masc,sing)), Form('в', Grams(Abbr,Fixd,Init,NOUN,Patr,Sgtm,anim,datv,masc,sing)), Form('в', Grams(Abbr,Fixd,Init,NOUN,Patr,Sgtm,accs,anim,masc,sing)), Form('в', Grams(Abbr,Fixd,Init,NOUN,Patr,Sgtm,ablt,anim,masc,sing)), Form('в', Grams(Abbr,Fixd,Init,NOUN,Patr,Sgtm,anim,loct,masc,sing)), Form('в', Grams(Abbr,Fixd,Init,NOUN,Patr,Sgtm,anim,femn,nomn,sing)), Form('в', Grams(Abbr,Fixd,Init,NOUN,Patr,Sgtm,anim,femn,gent,sing)), Form('в', Grams(Abbr,Fixd,Init,NOUN,Patr,Sgtm,anim,datv,femn,sing)), Form('в', Grams(Abbr,Fixd,Init,NOUN,Patr,Sgtm,accs,anim,femn,sing)), Form('в', Grams(Abbr,Fixd,Init,NOUN,Patr,Sgtm,ablt,anim,femn,sing)), Form('в', Grams(Abbr,Fixd,Init,NOUN,Patr,Sgtm,anim,femn,loct,sing))])\n",
            "MorphToken(value='тот', span=[3, 6), type='RU', forms=[Form('тот', Grams(ADJF,Anph,Apro,Subx,masc,nomn,sing)), Form('тот', Grams(ADJF,Anph,Apro,Subx,accs,inan,masc,sing))])\n",
            "MorphToken(value='год', span=[7, 10), type='RU', forms=[Form('год', Grams(NOUN,accs,inan,masc,sing)), Form('год', Grams(NOUN,inan,masc,nomn,sing))])\n",
            "MorphToken(value='осенняя', span=[11, 18), type='RU', forms=[Form('осенний', Grams(ADJF,femn,nomn,sing))])\n",
            "MorphToken(value='погода', span=[19, 25), type='RU', forms=[Form('погода', Grams(NOUN,femn,inan,nomn,sing))])\n",
            "Token(value='\\n', span=[25, 26), type='EOL')\n",
            "MorphToken(value='стояла', span=[26, 32), type='RU', forms=[Form('стоялый', Grams(ADJS,femn,sing)), Form('стоять', Grams(VERB,femn,impf,indc,intr,past,sing))])\n",
            "MorphToken(value='долго', span=[33, 38), type='RU', forms=[Form('долго', Grams(ADVB)), Form('долгий', Grams(ADJS,Qual,neut,sing))])\n",
            "MorphToken(value='на', span=[39, 41), type='RU', forms=[Form('на', Grams(PREP)), Form('на', Grams(PRCL)), Form('на', Grams(INTJ))])\n",
            "MorphToken(value='дворе', span=[42, 47), type='RU', forms=[Form('двор', Grams(NOUN,inan,loct,masc,sing))])\n",
            "Token(value='\\n', span=[47, 48), type='EOL')\n",
            "MorphToken(value='Зимы', span=[48, 52), type='RU', forms=[Form('зима', Grams(NOUN,femn,gent,inan,sing)), Form('зима', Grams(NOUN,femn,inan,nomn,plur)), Form('зима', Grams(NOUN,accs,femn,inan,plur))])\n",
            "MorphToken(value='ждала', span=[53, 58), type='RU', forms=[Form('ждать', Grams(VERB,femn,impf,indc,past,sing,tran))])\n",
            "Token(value=',', span=[58, 59), type='PUNCT')\n",
            "MorphToken(value='ждала', span=[60, 65), type='RU', forms=[Form('ждать', Grams(VERB,femn,impf,indc,past,sing,tran))])\n",
            "MorphToken(value='природа', span=[66, 73), type='RU', forms=[Form('природа', Grams(NOUN,femn,inan,nomn,sing))])\n",
            "Token(value='\\n', span=[73, 74), type='EOL')\n",
            "MorphToken(value='Снег', span=[74, 78), type='RU', forms=[Form('снег', Grams(NOUN,inan,masc,nomn,sing)), Form('снег', Grams(NOUN,accs,inan,masc,sing))])\n",
            "MorphToken(value='выпал', span=[79, 84), type='RU', forms=[Form('выпасть', Grams(VERB,indc,intr,masc,past,perf,sing)), Form('выпал', Grams(NOUN,inan,masc,nomn,sing)), Form('выпал', Grams(NOUN,accs,inan,masc,sing))])\n",
            "MorphToken(value='только', span=[85, 91), type='RU', forms=[Form('только', Grams(PRCL)), Form('только', Grams(CONJ))])\n",
            "MorphToken(value='в', span=[92, 93), type='RU', forms=[Form('в', Grams(PREP)), Form('век', Grams(Abbr,Fixd,NOUN,inan,masc,nomn,sing)), Form('век', Grams(Abbr,Fixd,NOUN,gent,inan,masc,sing)), Form('век', Grams(Abbr,Fixd,NOUN,datv,inan,masc,sing)), Form('век', Grams(Abbr,Fixd,NOUN,accs,inan,masc,sing)), Form('век', Grams(Abbr,Fixd,NOUN,ablt,inan,masc,sing)), Form('век', Grams(Abbr,Fixd,NOUN,inan,loct,masc,sing)), Form('век', Grams(Abbr,Fixd,NOUN,inan,masc,nomn,plur)), Form('век', Grams(Abbr,Fixd,NOUN,gent,inan,masc,plur)), Form('век', Grams(Abbr,Fixd,NOUN,datv,inan,masc,plur)), Form('век', Grams(Abbr,Fixd,NOUN,accs,inan,masc,plur)), Form('век', Grams(Abbr,Fixd,NOUN,ablt,inan,masc,plur)), Form('век', Grams(Abbr,Fixd,NOUN,inan,loct,masc,plur))])\n",
            "MorphToken(value='январе', span=[94, 100), type='RU', forms=[Form('январь', Grams(NOUN,inan,loct,masc,sing))])\n",
            "Token(value='.', span=[100, 101), type='PUNCT')\n",
            "Token(value='\\n', span=[101, 102), type='EOL')\n",
            "Token(value='А.С.Пушкин', span=[116, 126), type='FIO')\n",
            "Token(value='\\n', span=[126, 127), type='EOL')\n"
          ],
          "name": "stdout"
        }
      ]
    }
  ]
}