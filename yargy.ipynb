{
  "nbformat": 4,
  "nbformat_minor": 0,
  "metadata": {
    "colab": {
      "name": "yargy.ipynb",
      "provenance": [],
      "mount_file_id": "1ypqSHEwkSBXtmwt1n2n2hyLGjnwXh7n8",
      "authorship_tag": "ABX9TyOcw7BTsm8aTRtFY05WJOXK",
      "include_colab_link": true
    },
    "kernelspec": {
      "name": "python3",
      "display_name": "Python 3"
    }
  },
  "cells": [
    {
      "cell_type": "markdown",
      "metadata": {
        "id": "view-in-github",
        "colab_type": "text"
      },
      "source": [
        "<a href=\"https://colab.research.google.com/github/zlukfo/notebooks/blob/master/yargy.ipynb\" target=\"_parent\"><img src=\"https://colab.research.google.com/assets/colab-badge.svg\" alt=\"Open In Colab\"/></a>"
      ]
    },
    {
      "cell_type": "code",
      "metadata": {
        "id": "j_qbZc5xVtJK",
        "colab_type": "code",
        "colab": {
          "base_uri": "https://localhost:8080/",
          "height": 54
        },
        "outputId": "1e33170f-6457-4fc0-c639-506f493e2d5b"
      },
      "source": [
        "from yargy.tokenizer import RULES\n",
        "print (RULES)"
      ],
      "execution_count": 4,
      "outputs": [
        {
          "output_type": "stream",
          "text": [
            "[TokenRule(type='RU', pattern='[а-яё]+'), TokenRule(type='LATIN', pattern='[a-z]+'), TokenRule(type='INT', pattern='\\\\d+'), TokenRule(type='PUNCT', pattern='[-\\\\\\\\/!#$%&()\\\\[\\\\]\\\\*\\\\+,\\\\.:;<=>?@^_`{|}~№…\"\\\\\\'«»„“ʼʻ”]'), TokenRule(type='EOL', pattern='[\\\\n\\\\r]+'), TokenRule(type='OTHER', pattern='\\\\S')]\n"
          ],
          "name": "stdout"
        }
      ]
    }
  ]
}