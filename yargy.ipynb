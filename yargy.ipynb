{
  "nbformat": 4,
  "nbformat_minor": 0,
  "metadata": {
    "colab": {
      "name": "yargy.ipynb",
      "provenance": [],
      "toc_visible": true,
      "mount_file_id": "1ypqSHEwkSBXtmwt1n2n2hyLGjnwXh7n8",
      "authorship_tag": "ABX9TyNzIvlx88DPfY7fcZtWazyL",
      "include_colab_link": true
    },
    "kernelspec": {
      "name": "python3",
      "display_name": "Python 3"
    }
  },
  "cells": [
    {
      "cell_type": "markdown",
      "metadata": {
        "id": "view-in-github",
        "colab_type": "text"
      },
      "source": [
        "<a href=\"https://colab.research.google.com/github/zlukfo/notebooks/blob/master/yargy.ipynb\" target=\"_parent\"><img src=\"https://colab.research.google.com/assets/colab-badge.svg\" alt=\"Open In Colab\"/></a>"
      ]
    },
    {
      "cell_type": "markdown",
      "metadata": {
        "id": "T7P__-v2V1Gc",
        "colab_type": "text"
      },
      "source": [
        "### Yargy - парсер для извлечения данных из текста\n"
      ]
    },
    {
      "cell_type": "markdown",
      "metadata": {
        "id": "2JANbBHKWXPQ",
        "colab_type": "text"
      },
      "source": [
        "## 1. Установка"
      ]
    },
    {
      "cell_type": "code",
      "metadata": {
        "id": "ITOhIhkfVQuo",
        "colab_type": "code",
        "colab": {}
      },
      "source": [
        "pip install yargy"
      ],
      "execution_count": 0,
      "outputs": []
    },
    {
      "cell_type": "markdown",
      "metadata": {
        "id": "zn4HPvfHdlv2",
        "colab_type": "text"
      },
      "source": [
        "## 2. Токенизатор"
      ]
    },
    {
      "cell_type": "markdown",
      "metadata": {
        "id": "DlzJkyoMeGuE",
        "colab_type": "text"
      },
      "source": [
        "2.1. Посмотреть текущие правила"
      ]
    },
    {
      "cell_type": "code",
      "metadata": {
        "id": "j_qbZc5xVtJK",
        "colab_type": "code",
        "outputId": "a1bdbf1c-0e3d-46b5-c043-df2bb1c25b1f",
        "colab": {
          "base_uri": "https://localhost:8080/",
          "height": 54
        }
      },
      "source": [
        "from yargy.tokenizer import RULES\n",
        "print (RULES)"
      ],
      "execution_count": 0,
      "outputs": [
        {
          "output_type": "stream",
          "text": [
            "[TokenRule(type='RU', pattern='[а-яё]+'), TokenRule(type='LATIN', pattern='[a-z]+'), TokenRule(type='INT', pattern='\\\\d+'), TokenRule(type='PUNCT', pattern='[-\\\\\\\\/!#$%&()\\\\[\\\\]\\\\*\\\\+,\\\\.:;<=>?@^_`{|}~№…\"\\\\\\'«»„“ʼʻ”]'), TokenRule(type='EOL', pattern='[\\\\n\\\\r]+'), TokenRule(type='OTHER', pattern='\\\\S')]\n"
          ],
          "name": "stdout"
        }
      ]
    }
  ]
}